{
  "nbformat": 4,
  "nbformat_minor": 5,
  "metadata": {
    "kernelspec": {
      "display_name": "Python 3 (ipykernel)",
      "language": "python",
      "name": "python3"
    },
    "language_info": {
      "codemirror_mode": {
        "name": "ipython",
        "version": 3
      },
      "file_extension": ".py",
      "mimetype": "text/x-python",
      "name": "python",
      "nbconvert_exporter": "python",
      "pygments_lexer": "ipython3",
      "version": "3.8.6"
    },
    "toc": {
      "base_numbering": 1,
      "nav_menu": {},
      "number_sections": true,
      "sideBar": true,
      "skip_h1_title": false,
      "title_cell": "Table of Contents",
      "title_sidebar": "Contents",
      "toc_cell": false,
      "toc_position": {},
      "toc_section_display": true,
      "toc_window_display": false
    },
    "colab": {
      "name": "image_detecion.ipynb",
      "provenance": [],
      "collapsed_sections": [],
      "include_colab_link": true
    }
  },
  "cells": [
    {
      "cell_type": "markdown",
      "metadata": {
        "id": "view-in-github",
        "colab_type": "text"
      },
      "source": [
        "<a href=\"https://colab.research.google.com/github/amirda9/ALLofMyDataGatherings/blob/master/image_detecion.ipynb\" target=\"_parent\"><img src=\"https://colab.research.google.com/assets/colab-badge.svg\" alt=\"Open In Colab\"/></a>"
      ]
    },
    {
      "cell_type": "markdown",
      "metadata": {
        "id": "mYUPLO_UysSI"
      },
      "source": [
        "# Live Camera"
      ],
      "id": "mYUPLO_UysSI"
    },
    {
      "cell_type": "code",
      "metadata": {
        "id": "45d32281"
      },
      "source": [
        "# import tensorflow_hub as hub\n",
        "# import cv2\n",
        "# import numpy\n",
        "# import tensorflow as tf\n",
        "# import pandas as pd\n",
        "\n",
        "# # Carregar modelos\n",
        "# detector = hub.load(\"https://tfhub.dev/tensorflow/efficientdet/lite2/detection/1\")\n",
        "# labels = pd.read_csv('labels.csv',sep=';',index_col='ID')\n",
        "# labels = labels['OBJECT (2017 REL.)']\n",
        "\n",
        "# cap = cv2.VideoCapture(0)\n",
        "\n",
        "# width = 512\n",
        "# height = 512\n",
        "\n",
        "# while(True):\n",
        "#     #Capture frame-by-frame\n",
        "#     ret, frame = cap.read()\n",
        "    \n",
        "#     #Resize to respect the input_shape\n",
        "#     inp = cv2.resize(frame, (width , height ))\n",
        "\n",
        "#     #Convert img to RGB\n",
        "#     rgb = cv2.cvtColor(inp, cv2.COLOR_BGR2RGB)\n",
        "\n",
        "#     #Is optional but i recommend (float convertion and convert img to tensor image)\n",
        "#     rgb_tensor = tf.convert_to_tensor(rgb, dtype=tf.uint8)\n",
        "\n",
        "#     #Add dims to rgb_tensor\n",
        "#     rgb_tensor = tf.expand_dims(rgb_tensor , 0)\n",
        "    \n",
        "#     boxes, scores, classes, num_detections = detector(rgb_tensor)\n",
        "    \n",
        "#     pred_labels = classes.numpy().astype('int')[0]\n",
        "    \n",
        "#     pred_labels = [labels[i] for i in pred_labels]\n",
        "#     pred_boxes = boxes.numpy()[0].astype('int')\n",
        "#     pred_scores = scores.numpy()[0]\n",
        "#     #loop throughout the faces detected and place a box around it\n",
        "    \n",
        "#     for score, (ymin,xmin,ymax,xmax), label in zip(pred_scores, pred_boxes, pred_labels):\n",
        "#         if score < 0.5:\n",
        "#             continue\n",
        "            \n",
        "#         score_txt = f'{100 * round(score,0)}'\n",
        "#         img_boxes = cv2.rectangle(rgb,(xmin, ymax),(xmax, ymin),(0,255,0),1)      \n",
        "#         font = cv2.FONT_HERSHEY_SIMPLEX\n",
        "#         cv2.putText(img_boxes,label,(xmin, ymax-10), font, 0.5, (255,0,0), 1, cv2.LINE_AA)\n",
        "#         cv2.putText(img_boxes,score_txt,(xmax, ymax-10), font, 0.5, (255,0,0), 1, cv2.LINE_AA)\n",
        "\n",
        "\n",
        "\n",
        "#     #Display the resulting frame\n",
        "#     cv2.imshow('black and white',img_boxes)\n",
        "#     if cv2.waitKey(1) & 0xFF == ord('q'):\n",
        "#         break\n",
        "\n",
        "# # When everything done, release the capture\n",
        "# cap.release()\n",
        "# cv2.destroyAllWindows()\n"
      ],
      "id": "45d32281",
      "execution_count": null,
      "outputs": []
    },
    {
      "cell_type": "markdown",
      "metadata": {
        "id": "XRhDMi8zyvvt"
      },
      "source": [
        "# Static Image"
      ],
      "id": "XRhDMi8zyvvt"
    },
    {
      "cell_type": "code",
      "source": [
        "from google.colab import drive\n",
        "drive.mount('/content/drive')"
      ],
      "metadata": {
        "id": "MqP0ljfTWkCV"
      },
      "id": "MqP0ljfTWkCV",
      "execution_count": null,
      "outputs": []
    },
    {
      "cell_type": "code",
      "source": [
        "import os\n",
        "import numpy as np\n",
        "path = \"/content/drive/MyDrive/AdelKhoramruz\"\n",
        "dir_list = os.listdir(path)\n",
        " \n",
        "print(\"Files and directories in '\", path, \"' :\")\n",
        " \n",
        "# prints all files\n",
        "print(dir_list)\n",
        "np.asarray(dir_list).shape"
      ],
      "metadata": {
        "id": "dEtHmPtxWyfS"
      },
      "id": "dEtHmPtxWyfS",
      "execution_count": null,
      "outputs": []
    },
    {
      "cell_type": "code",
      "source": [
        "def image_resize(image, width = None, height = None, inter = cv2.INTER_AREA):\n",
        "    # initialize the dimensions of the image to be resized and\n",
        "    # grab the image size\n",
        "    dim = None\n",
        "    (h, w) = image.shape[:2]\n",
        "\n",
        "    # if both the width and height are None, then return the\n",
        "    # original image\n",
        "    if width is None and height is None:\n",
        "        return image\n",
        "\n",
        "    # check to see if the width is None\n",
        "    if width is None:\n",
        "        # calculate the ratio of the height and construct the\n",
        "        # dimensions\n",
        "        r = height / float(h)\n",
        "        dim = (int(w * r), height)\n",
        "\n",
        "    # otherwise, the height is None\n",
        "    else:\n",
        "        # calculate the ratio of the width and construct the\n",
        "        # dimensions\n",
        "        r = width / float(w)\n",
        "        dim = (width, int(h * r))\n",
        "\n",
        "    # resize the image\n",
        "    resized = cv2.resize(image, dim, interpolation = inter)\n",
        "\n",
        "    # return the resized image\n",
        "    return resized"
      ],
      "metadata": {
        "id": "AKoNZNK41EfJ"
      },
      "id": "AKoNZNK41EfJ",
      "execution_count": null,
      "outputs": []
    },
    {
      "cell_type": "code",
      "source": [
        "MyHyper=0\n",
        "for pic in dir_list:\n",
        "  img = cv2.imread('/content/drive/MyDrive/AdelKhoramruz/{}'.format(pic))\n",
        "  if img.shape[0] > MyHyper:\n",
        "    MyHyper = img.shape[0]\n",
        "    print(MyHyper)\n",
        "  else:\n",
        "    pass"
      ],
      "metadata": {
        "id": "xjTMqqoe12A1"
      },
      "id": "xjTMqqoe12A1",
      "execution_count": null,
      "outputs": []
    },
    {
      "cell_type": "code",
      "metadata": {
        "id": "96a661bd"
      },
      "source": [
        "import tensorflow_hub as hub\n",
        "import cv2\n",
        "import numpy\n",
        "import pandas as pd\n",
        "import tensorflow as tf\n",
        "import matplotlib.pyplot as plt\n",
        "\n",
        "# Apply image detector on a batch of image.\n",
        "detector = hub.load(\"https://tfhub.dev/tensorflow/efficientdet/lite2/detection/1\")\n",
        "\n",
        "\n",
        "width = 1028\n",
        "height = 1028\n",
        "\n",
        "labels = pd.read_csv('labels.csv',sep=';',index_col='ID')\n",
        "labels = labels['OBJECT (2017 REL.)']\n",
        "z = 0\n",
        "for pic in dir_list:\n",
        "  #Load image by Opencv2\n",
        "  img = cv2.imread('/content/drive/MyDrive/AdelKhoramruz/{}'.format(pic))\n",
        "  #Resize to respect the input_shape\n",
        "  inp = cv2.resize(img, (width , height ))\n",
        "\n",
        "  #Convert img to RGB\n",
        "  rgb = cv2.cvtColor(inp, cv2.COLOR_BGR2RGB)\n",
        "\n",
        "  #Is optional but i recommend (float convertion and convert img to tensor image)\n",
        "  rgb_tensor = tf.convert_to_tensor(rgb, dtype=tf.uint8)\n",
        "\n",
        "  #Add dims to rgb_tensor\n",
        "  rgb_tensor = tf.expand_dims(rgb_tensor , 0)\n",
        "\n",
        "  #Now you can use rgb_tensor to predict label for exemple :\n",
        "\n",
        "  boxes, scores, classes, num_detections = detector(rgb_tensor)\n",
        "\n",
        "  pred_labels = classes.numpy().astype('int')[0] \n",
        "  pred_labels = [labels[i] for i in pred_labels]\n",
        "  pred_boxes = boxes.numpy()[0].astype('int')\n",
        "  pred_scores = scores.numpy()[0]\n",
        "\n",
        "  for score, (ymin,xmin,ymax,xmax), label in zip(pred_scores, pred_boxes, pred_labels):\n",
        "          if score < 0.4:\n",
        "            continue\n",
        "          z+=1\n",
        "          score_txt = f'{100 * round(score)}%'\n",
        "          img_boxes = cv2.rectangle(rgb,(xmin, ymax),(xmax, ymin),(0,255,0),2)      \n",
        "          font = cv2.FONT_HERSHEY_SIMPLEX\n",
        "          cv2.putText(img_boxes, label,(xmin, ymax-10), font, 1.5, (255,0,0), 2, cv2.LINE_AA)\n",
        "          crop_img = img_boxes[ymin:ymax, xmin:xmax]\n",
        "          crop_img = image_resize(crop_img, height = MyHyper)\n",
        "          crop_img = cv2.cvtColor(crop_img, cv2.COLOR_BGR2GRAY)\n",
        "          crop_img = cv2.cvtColor(crop_img, cv2.COLOR_BGR2RGB)\n",
        "          (thresh, crop_img) = cv2.threshold(crop_img, 150, 255, cv2.THRESH_BINARY)\n",
        "          plt.imshow(crop_img)\n",
        "          plt.savefig('/content/drive/MyDrive/adel_final/{}.jpg'.format(z))\n",
        "          cv2.putText(img_boxes,score_txt,(xmax, ymax-10), font, 1.5, (255,0,0), 2, cv2.LINE_AA)\n"
      ],
      "id": "96a661bd",
      "execution_count": null,
      "outputs": []
    }
  ]
}