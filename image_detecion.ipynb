{
  "nbformat": 4,
  "nbformat_minor": 5,
  "metadata": {
    "kernelspec": {
      "display_name": "Python 3 (ipykernel)",
      "language": "python",
      "name": "python3"
    },
    "language_info": {
      "codemirror_mode": {
        "name": "ipython",
        "version": 3
      },
      "file_extension": ".py",
      "mimetype": "text/x-python",
      "name": "python",
      "nbconvert_exporter": "python",
      "pygments_lexer": "ipython3",
      "version": "3.8.6"
    },
    "toc": {
      "base_numbering": 1,
      "nav_menu": {},
      "number_sections": true,
      "sideBar": true,
      "skip_h1_title": false,
      "title_cell": "Table of Contents",
      "title_sidebar": "Contents",
      "toc_cell": false,
      "toc_position": {},
      "toc_section_display": true,
      "toc_window_display": false
    },
    "colab": {
      "name": "image_detecion.ipynb",
      "provenance": [],
      "collapsed_sections": [],
      "include_colab_link": true
    },
    "accelerator": "GPU"
  },
  "cells": [
    {
      "cell_type": "markdown",
      "metadata": {
        "id": "view-in-github",
        "colab_type": "text"
      },
      "source": [
        "<a href=\"https://colab.research.google.com/github/amirda9/ALLofMyDataGatherings/blob/master/image_detecion.ipynb\" target=\"_parent\"><img src=\"https://colab.research.google.com/assets/colab-badge.svg\" alt=\"Open In Colab\"/></a>"
      ]
    },
    {
      "cell_type": "markdown",
      "metadata": {
        "id": "mYUPLO_UysSI"
      },
      "source": [
        "# Live Camera"
      ],
      "id": "mYUPLO_UysSI"
    },
    {
      "cell_type": "code",
      "metadata": {
        "id": "45d32281"
      },
      "source": [
        "# import tensorflow_hub as hub\n",
        "# import cv2\n",
        "# import numpy\n",
        "# import tensorflow as tf\n",
        "# import pandas as pd\n",
        "\n",
        "# # Carregar modelos\n",
        "# detector = hub.load(\"https://tfhub.dev/tensorflow/efficientdet/lite2/detection/1\")\n",
        "# labels = pd.read_csv('labels.csv',sep=';',index_col='ID')\n",
        "# labels = labels['OBJECT (2017 REL.)']\n",
        "\n",
        "# cap = cv2.VideoCapture(0)\n",
        "\n",
        "# width = 512\n",
        "# height = 512\n",
        "\n",
        "# while(True):\n",
        "#     #Capture frame-by-frame\n",
        "#     ret, frame = cap.read()\n",
        "    \n",
        "#     #Resize to respect the input_shape\n",
        "#     inp = cv2.resize(frame, (width , height ))\n",
        "\n",
        "#     #Convert img to RGB\n",
        "#     rgb = cv2.cvtColor(inp, cv2.COLOR_BGR2RGB)\n",
        "\n",
        "#     #Is optional but i recommend (float convertion and convert img to tensor image)\n",
        "#     rgb_tensor = tf.convert_to_tensor(rgb, dtype=tf.uint8)\n",
        "\n",
        "#     #Add dims to rgb_tensor\n",
        "#     rgb_tensor = tf.expand_dims(rgb_tensor , 0)\n",
        "    \n",
        "#     boxes, scores, classes, num_detections = detector(rgb_tensor)\n",
        "    \n",
        "#     pred_labels = classes.numpy().astype('int')[0]\n",
        "    \n",
        "#     pred_labels = [labels[i] for i in pred_labels]\n",
        "#     pred_boxes = boxes.numpy()[0].astype('int')\n",
        "#     pred_scores = scores.numpy()[0]\n",
        "#     #loop throughout the faces detected and place a box around it\n",
        "    \n",
        "#     for score, (ymin,xmin,ymax,xmax), label in zip(pred_scores, pred_boxes, pred_labels):\n",
        "#         if score < 0.5:\n",
        "#             continue\n",
        "            \n",
        "#         score_txt = f'{100 * round(score,0)}'\n",
        "#         img_boxes = cv2.rectangle(rgb,(xmin, ymax),(xmax, ymin),(0,255,0),1)      \n",
        "#         font = cv2.FONT_HERSHEY_SIMPLEX\n",
        "#         cv2.putText(img_boxes,label,(xmin, ymax-10), font, 0.5, (255,0,0), 1, cv2.LINE_AA)\n",
        "#         cv2.putText(img_boxes,score_txt,(xmax, ymax-10), font, 0.5, (255,0,0), 1, cv2.LINE_AA)\n",
        "\n",
        "\n",
        "\n",
        "#     #Display the resulting frame\n",
        "#     cv2.imshow('black and white',img_boxes)\n",
        "#     if cv2.waitKey(1) & 0xFF == ord('q'):\n",
        "#         break\n",
        "\n",
        "# # When everything done, release the capture\n",
        "# cap.release()\n",
        "# cv2.destroyAllWindows()\n"
      ],
      "id": "45d32281",
      "execution_count": 31,
      "outputs": []
    },
    {
      "cell_type": "markdown",
      "metadata": {
        "id": "XRhDMi8zyvvt"
      },
      "source": [
        "# Static Image"
      ],
      "id": "XRhDMi8zyvvt"
    },
    {
      "cell_type": "code",
      "source": [
        "from google.colab import drive\n",
        "drive.mount('/content/drive')"
      ],
      "metadata": {
        "colab": {
          "base_uri": "https://localhost:8080/"
        },
        "id": "MqP0ljfTWkCV",
        "outputId": "496ea30a-1812-4816-9aa4-db614509086c"
      },
      "id": "MqP0ljfTWkCV",
      "execution_count": 32,
      "outputs": [
        {
          "output_type": "stream",
          "name": "stdout",
          "text": [
            "Drive already mounted at /content/drive; to attempt to forcibly remount, call drive.mount(\"/content/drive\", force_remount=True).\n"
          ]
        }
      ]
    },
    {
      "cell_type": "code",
      "source": [
        "import os\n",
        "import numpy as np\n",
        "path = \"/content/drive/MyDrive/AdelKhoramruz\"\n",
        "dir_list = os.listdir(path)\n",
        " \n",
        "print(\"Files and directories in '\", path, \"' :\")\n",
        " \n",
        "# prints all files\n",
        "print(dir_list)\n",
        "np.asarray(dir_list).shape"
      ],
      "metadata": {
        "colab": {
          "base_uri": "https://localhost:8080/"
        },
        "id": "dEtHmPtxWyfS",
        "outputId": "8a3d6f06-abbe-4512-9c15-39a331012909"
      },
      "id": "dEtHmPtxWyfS",
      "execution_count": 33,
      "outputs": [
        {
          "output_type": "stream",
          "name": "stdout",
          "text": [
            "Files and directories in ' /content/drive/MyDrive/AdelKhoramruz ' :\n",
            "['20211225_173717.jpg', '20211225_173656.jpg', '20211225_004109.jpg', '20211225_173623.jpg', '20211225_173634.jpg', '20211225_004104.jpg', '20211225_004032.jpg', '20211225_004027.jpg', '20211225_003933.jpg', '20211225_004000.jpg', '20211225_004005.jpg', '20211225_003925.jpg', '20211221_112118.jpg', '20211221_112130.jpg', 'Screenshot_20211230-023033_Telegram.jpg', 'IMG_20211230_023054_543.jpg', 'IMG_20211230_023051_891.jpg', 'IMG_20211230_023047_990.jpg', 'IMG_20211230_023045_818.jpg', 'IMG_20211230_023102_947.jpg', 'IMG_20211230_023101_796.jpg', 'IMG_20211230_023059_232.jpg', 'IMG_20211230_023057_503.jpg', 'IMG_20211230_023113_971.jpg', 'IMG_20211230_023111_476.jpg', 'IMG_20211230_023109_308.jpg', 'IMG_20211230_023106_414.jpg', 'IMG_20211230_023121_742.jpg', 'IMG_20211230_023119_709.jpg', 'IMG_20211230_023118_445.jpg', 'IMG_20211230_023115_577.jpg', 'Screenshot_20211230-023404_WhatsApp.jpg', 'Screenshot_20211230-023225_Gallery.jpg', 'IMG_20211230_023128_441.jpg', 'IMG_20211230_023126_211.jpg', 'Screenshot_20211230-023409_WhatsApp.jpg', 'Screenshot_20211230-023502_Gallery.jpg', 'Screenshot_20211230-023604_Gallery.jpg', '20211222_222910.jpg', '20211222_222919.jpg', 'Screenshot_20211230-024154_Gallery.jpg', 'Screenshot_20211230-024209_Gallery.jpg', 'Screenshot_20211230-024219_Gallery.jpg', 'Screenshot_20211230-024247_Gallery.jpg', 'Screenshot_20211230-024240_Gallery.jpg', 'Screenshot_20211230-024232_Gallery.jpg', 'Screenshot_20211230-024226_Gallery.jpg', 'Screenshot_20211230-024201_Gallery.jpg', '20220104_000752 (1).jpg', '20220104_000757 (1).jpg', '20220104_000807 (1).jpg', '20220104_000908 (1).jpg', '20220104_000911 (1).jpg', '20220104_000920 (1).jpg', 'Screenshot_20220104-160754_WhatsApp.jpg', 'Screenshot_20220104-160750_WhatsApp.jpg', 'Screenshot_20220104-160747_WhatsApp.jpg', 'Screenshot_20220104-160744_WhatsApp.jpg', 'Screenshot_20220104-160740_WhatsApp.jpg', 'Screenshot_20220104-160737_WhatsApp.jpg', 'Screenshot_20220104-160733_WhatsApp.jpg', 'Screenshot_20220104-160728_WhatsApp.jpg', 'Screenshot_20220104-160620_WhatsApp.jpg', 'Screenshot_20220104-160615_WhatsApp.jpg', '20220104_012840.jpg', '20220104_012834.jpg', '20220104_012808.jpg', '20220104_012802.jpg', '20220104_012653.jpg', '20220104_012647.jpg', '20220104_012620.jpg', '20220104_012616.jpg', '20220104_012609.jpg', '20220104_012604.jpg', '20220104_012548.jpg', '20220104_012544.jpg', '20220104_012512.jpg', '20220104_012507.jpg', '20220104_001152.jpg', '20220104_001149.jpg', '20220104_001145.jpg', '20220104_001142.jpg', '20220104_001042.jpg', '20220104_000955.jpg', '20220104_000954.jpg', '20220104_000958.jpg', '20220104_001037.jpg', '20220104_001000.jpg', '20220104_001030.jpg', '20220104_000947.jpg', '20220104_000940.jpg', '20220104_000937.jpg', '20220104_001023.jpg', '20220104_000926.jpg', '20220104_000920.jpg', '20220104_000911.jpg', '20220104_000908.jpg', '20220104_000846.jpg', '20220104_000836.jpg', '20220104_000807.jpg', '20220104_000757.jpg', '20220104_000752.jpg', '20220104_000818.jpg', '20220104_000945.jpg', '20220104_000843.jpg']\n"
          ]
        },
        {
          "output_type": "execute_result",
          "data": {
            "text/plain": [
              "(105,)"
            ]
          },
          "metadata": {},
          "execution_count": 33
        }
      ]
    },
    {
      "cell_type": "code",
      "source": [
        "import cv2\n",
        "def image_resize(image, width = None, height = None, inter = cv2.INTER_AREA):\n",
        "    # initialize the dimensions of the image to be resized and\n",
        "    # grab the image size\n",
        "    dim = None\n",
        "    (h, w) = image.shape[:2]\n",
        "\n",
        "    # if both the width and height are None, then return the\n",
        "    # original image\n",
        "    if width is None and height is None:\n",
        "        return image\n",
        "\n",
        "    # check to see if the width is None\n",
        "    if width is None:\n",
        "        # calculate the ratio of the height and construct the\n",
        "        # dimensions\n",
        "        r = height / float(h)\n",
        "        dim = (int(w * r), height)\n",
        "\n",
        "    # otherwise, the height is None\n",
        "    else:\n",
        "        # calculate the ratio of the width and construct the\n",
        "        # dimensions\n",
        "        r = width / float(w)\n",
        "        dim = (width, int(h * r))\n",
        "\n",
        "    # resize the image\n",
        "    resized = cv2.resize(image, dim, interpolation = inter)\n",
        "\n",
        "    # return the resized image\n",
        "    return resized"
      ],
      "metadata": {
        "id": "AKoNZNK41EfJ"
      },
      "id": "AKoNZNK41EfJ",
      "execution_count": 34,
      "outputs": []
    },
    {
      "cell_type": "code",
      "source": [
        "import statistics\n",
        "img = cv2.imread('/content/drive/MyDrive/AdelKhoramruz/Screenshot_20220104-160740_WhatsApp.jpg')\n",
        "img = cv2.cvtColor(img, cv2.COLOR_BGR2GRAY)\n",
        "hist, bin_edges = np.histogram(img,bins=20)\n",
        "localMin = (np.diff(np.sign(np.diff(hist))) > 0).nonzero()[0] + 1\n",
        "print(hist,int(bin_edges[statistics.median(localMin)]))\n",
        "#  img = cv2.cvtColor(img, cv2.COLOR_BGR2RGB)\n",
        "#     crop_img = cv2.cvtColor(img, cv2.COLOR_RGB2GRAY)\n",
        "#     # (thresh, crop_img) = cv2.threshold(crop_img, 150, 255, cv2.THRESH_BINARY)\n",
        "#     crop_img = cv2.adaptiveThreshold(crop_img, 255, cv2.ADAPTIVE_THRESH_MEAN_C, cv2.THRESH_BINARY, 11, 2);\n",
        "#     cv2_imshow(crop_img)"
      ],
      "metadata": {
        "colab": {
          "base_uri": "https://localhost:8080/"
        },
        "id": "ZoWNOZkqEZr9",
        "outputId": "ae4a6389-9e48-4dae-a930-588b75d9f738"
      },
      "id": "ZoWNOZkqEZr9",
      "execution_count": 40,
      "outputs": [
        {
          "output_type": "stream",
          "name": "stdout",
          "text": [
            "[946087 114715 485260 370339 146585  49622  21778  24805  32613  27934\n",
            "  34586  37328  38125  32607  40166  28133  32560  34395   3635      7] 96\n"
          ]
        }
      ]
    },
    {
      "cell_type": "code",
      "source": [
        "from google.colab.patches import cv2_imshow\n",
        "MyHyper=0\n",
        "for pic in dir_list:\n",
        "  img = cv2.imread('/content/drive/MyDrive/AdelKhoramruz/{}'.format(pic))\n",
        "  if img.shape[0] > MyHyper:\n",
        "    MyHyper = img.shape[0]\n",
        "    print(MyHyper)\n",
        "    \n",
        "  else:\n",
        "    pass"
      ],
      "metadata": {
        "colab": {
          "base_uri": "https://localhost:8080/"
        },
        "id": "xjTMqqoe12A1",
        "outputId": "40838fe2-cc9d-42ee-9cde-8ffdc9a66eb9"
      },
      "id": "xjTMqqoe12A1",
      "execution_count": 36,
      "outputs": [
        {
          "output_type": "stream",
          "name": "stdout",
          "text": [
            "2214\n",
            "2470\n",
            "2692\n",
            "3164\n",
            "4000\n"
          ]
        }
      ]
    },
    {
      "cell_type": "code",
      "metadata": {
        "id": "96a661bd"
      },
      "source": [
        "import tensorflow_hub as hub\n",
        "import numpy\n",
        "import pandas as pd\n",
        "import tensorflow as tf\n",
        "import matplotlib.pyplot as plt\n",
        "\n",
        "# Apply image detector on a batch of image.\n",
        "detector = hub.load(\"https://tfhub.dev/tensorflow/efficientdet/lite2/detection/1\")\n",
        "\n",
        "\n",
        "width = 1028\n",
        "height = 1028\n",
        "\n",
        "labels = pd.read_csv('labels.csv',sep=';',index_col='ID')\n",
        "labels = labels['OBJECT (2017 REL.)']\n",
        "z = 0\n",
        "for pic in dir_list:\n",
        "  #Load image by Opencv2\n",
        "  img = cv2.imread('/content/drive/MyDrive/AdelKhoramruz/{}'.format(pic))\n",
        "  #Resize to respect the input_shape\n",
        "  inp = image_resize(img, height = MyHyper)\n",
        "\n",
        "  #Convert img to RGB\n",
        "  rgb = cv2.cvtColor(inp, cv2.COLOR_BGR2RGB)\n",
        "\n",
        "  #Is optional but i recommend (float convertion and convert img to tensor image)\n",
        "  rgb_tensor = tf.convert_to_tensor(rgb, dtype=tf.uint8)\n",
        "\n",
        "  #Add dims to rgb_tensor\n",
        "  rgb_tensor = tf.expand_dims(rgb_tensor , 0)\n",
        "\n",
        "  #Now you can use rgb_tensor to predict label for exemple :\n",
        "\n",
        "  boxes, scores, classes, num_detections = detector(rgb_tensor)\n",
        "\n",
        "  pred_labels = classes.numpy().astype('int')[0] \n",
        "  pred_labels = [labels[i] for i in pred_labels]\n",
        "  pred_boxes = boxes.numpy()[0].astype('int')\n",
        "  pred_scores = scores.numpy()[0]\n",
        "\n",
        "  for score, (ymin,xmin,ymax,xmax), label in zip(pred_scores, pred_boxes, pred_labels):\n",
        "          if score < 0.4:\n",
        "            continue\n",
        "          z+=1\n",
        "          score_txt = f'{100 * round(score)}%'\n",
        "          img_boxes = cv2.rectangle(rgb,(xmin, ymax),(xmax, ymin),(0,255,0),2)      \n",
        "          font = cv2.FONT_HERSHEY_SIMPLEX\n",
        "          cv2.putText(img_boxes, label,(xmin, ymax-10), font, 1.5, (255,0,0), 2, cv2.LINE_AA)\n",
        "          crop_img = img_boxes[ymin:ymax, xmin:xmax]\n",
        "          crop_img = cv2.cvtColor(crop_img, cv2.COLOR_RGB2GRAY)\n",
        "          crop_img = cv2.cvtColor(crop_img, cv2.COLOR_BGR2RGB)\n",
        "          hist, bin_edges = np.histogram(crop_img,bins=20)\n",
        "          localMin = (np.diff(np.sign(np.diff(hist))) > 0).nonzero()[0] + 1\n",
        "          Loc = int(statistics.median(localMin))\n",
        "          Loc = int(bin_edges[Loc])\n",
        "          (thresh, crop_img) = cv2.threshold(crop_img,Loc , 255, cv2.THRESH_BINARY)\n",
        "          plt.imshow(crop_img)\n",
        "          plt.savefig('/content/drive/MyDrive/adel_final/{}.jpg'.format(z))\n",
        "          cv2.putText(img_boxes,score_txt,(xmax, ymax-10), font, 1.5, (255,0,0), 2, cv2.LINE_AA)\n"
      ],
      "id": "96a661bd",
      "execution_count": null,
      "outputs": []
    }
  ]
}